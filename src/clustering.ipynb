{
 "cells": [
  {
   "cell_type": "code",
   "execution_count": 186,
   "metadata": {},
   "outputs": [],
   "source": [
    "from datetime import datetime\n",
    "import pandas as pd\n",
    "import numpy as np\n",
    "import matplotlib.pyplot as plt\n",
    "import seaborn as sns\n",
    "import sklearn\n",
    "from sklearn.model_selection import train_test_split\n",
    "from sklearn import preprocessing\n",
    "from sklearn.metrics import accuracy_score, classification_report, confusion_matrix\n",
    "from sklearn.preprocessing import StandardScaler\n",
    "from sklearn.svm import SVC\n",
    "from sklearn import svm\n",
    "from sklearn.model_selection import GridSearchCV\n",
    "from sklearn.ensemble import RandomForestClassifier\n",
    "from sklearn.cluster import KMeans\n",
    "from sklearn.cluster import DBSCAN"
   ]
  },
  {
   "cell_type": "code",
   "execution_count": 58,
   "metadata": {},
   "outputs": [],
   "source": [
    "%store -r X_train_bearish\n",
    "%store -r X_test_bearish\n",
    "%store -r X_train_bullish\n",
    "%store -r X_test_bullish\n",
    "%store -r Y_train_bearish\n",
    "%store -r Y_test_bearish\n",
    "%store -r Y_train_bullish\n",
    "%store -r Y_test_bullish\n",
    "\n",
    "%store -r trades_bearish\n",
    "%store -r trades_bullish"
   ]
  },
  {
   "cell_type": "markdown",
   "metadata": {},
   "source": [
    "*` Kmeans  `*"
   ]
  },
  {
   "cell_type": "code",
   "execution_count": 170,
   "metadata": {},
   "outputs": [],
   "source": [
    "bearish_Kmeans = KMeans(n_clusters=5 ,init = 'k-means++', random_state= 1516 )\n",
    "bearish_Kmeans.fit(X_train_bearish)\n",
    "y_bearish_pred = bearish_Kmeans.predict(X_test_bearish)"
   ]
  },
  {
   "cell_type": "code",
   "execution_count": 171,
   "metadata": {},
   "outputs": [
    {
     "name": "stdout",
     "output_type": "stream",
     "text": [
      "[[  0 244]\n",
      " [  1 246]\n",
      " [  2 162]\n",
      " [  3 342]\n",
      " [  4  65]]\n"
     ]
    }
   ],
   "source": [
    "unique, counts = np.unique(y_bearish_pred, return_counts=True)\n",
    "print(np.asarray((unique, counts)).T)"
   ]
  },
  {
   "cell_type": "code",
   "execution_count": 172,
   "metadata": {},
   "outputs": [
    {
     "name": "stdout",
     "output_type": "stream",
     "text": [
      "[[  0 244]\n",
      " [  1 246]\n",
      " [  2 162]\n",
      " [  3 342]\n",
      " [  4  65]]\n"
     ]
    }
   ],
   "source": [
    "\n",
    "unique, counts = np.unique(y_bearish_pred, return_counts=True)\n",
    "print(np.asarray((unique, counts)).T)"
   ]
  },
  {
   "cell_type": "code",
   "execution_count": 173,
   "metadata": {},
   "outputs": [],
   "source": [
    "bearish_test  = X_test_bearish.copy()\n",
    "bearish_test['result'] = Y_test_bearish.values\n",
    "bearish_test['lable'] = y_bearish_pred"
   ]
  },
  {
   "cell_type": "code",
   "execution_count": 174,
   "metadata": {},
   "outputs": [],
   "source": [
    "bearish_labels=bearish_test.groupby(['lable','result'])[0].count()\n",
    "bearish_wins = bearish_labels.loc[(slice(None),1)]\n",
    "bearish_results=bearish_test.groupby(['lable'])[0].count()\n",
    "bearish_lable_winrate = bearish_wins / bearish_results"
   ]
  },
  {
   "cell_type": "code",
   "execution_count": 175,
   "metadata": {},
   "outputs": [
    {
     "data": {
      "text/plain": [
       "lable  result\n",
       "0      0          92\n",
       "       1         152\n",
       "1      0          92\n",
       "       1         154\n",
       "2      0          47\n",
       "       1         115\n",
       "3      0         127\n",
       "       1         215\n",
       "4      0          19\n",
       "       1          46\n",
       "Name: 0, dtype: int64"
      ]
     },
     "execution_count": 175,
     "metadata": {},
     "output_type": "execute_result"
    }
   ],
   "source": [
    "bearish_labels"
   ]
  },
  {
   "cell_type": "code",
   "execution_count": 178,
   "metadata": {},
   "outputs": [
    {
     "data": {
      "text/plain": [
       "lable\n",
       "0    0.622951\n",
       "1    0.626016\n",
       "2    0.709877\n",
       "3    0.628655\n",
       "4    0.707692\n",
       "Name: 0, dtype: float64"
      ]
     },
     "execution_count": 178,
     "metadata": {},
     "output_type": "execute_result"
    }
   ],
   "source": [
    "bearish_lable_winrate"
   ]
  },
  {
   "cell_type": "code",
   "execution_count": 179,
   "metadata": {},
   "outputs": [],
   "source": [
    "bullish_Kmeans = KMeans(n_clusters=5 ,init = 'k-means++', random_state= 1516 ,max_iter=1000,n_init=100)\n",
    "bullish_Kmeans.fit(X_train_bullish)\n",
    "y_bullish_pred = bullish_Kmeans.predict(X_test_bullish)"
   ]
  },
  {
   "cell_type": "code",
   "execution_count": 180,
   "metadata": {},
   "outputs": [],
   "source": [
    "bullish_test  = X_test_bullish.copy()\n",
    "bullish_test['result'] = Y_test_bullish.values\n",
    "bullish_test['lable'] = y_bullish_pred"
   ]
  },
  {
   "cell_type": "code",
   "execution_count": 181,
   "metadata": {},
   "outputs": [],
   "source": [
    "bullish_labels=bullish_test.groupby(['lable','result'])[0].count()\n",
    "bullish_wins = bullish_labels.loc[(slice(None),1)]\n",
    "bullish_results=bullish_test.groupby(['lable'])[0].count()\n",
    "bullish_lable_winrate = bullish_wins / bullish_results"
   ]
  },
  {
   "cell_type": "code",
   "execution_count": 182,
   "metadata": {},
   "outputs": [
    {
     "data": {
      "text/plain": [
       "lable  result\n",
       "0      0         161\n",
       "       1         255\n",
       "1      0         103\n",
       "       1         171\n",
       "2      0          36\n",
       "       1          52\n",
       "3      0          85\n",
       "       1         158\n",
       "4      1           1\n",
       "Name: 0, dtype: int64"
      ]
     },
     "execution_count": 182,
     "metadata": {},
     "output_type": "execute_result"
    }
   ],
   "source": [
    "bullish_labels"
   ]
  },
  {
   "cell_type": "code",
   "execution_count": 185,
   "metadata": {},
   "outputs": [
    {
     "data": {
      "text/plain": [
       "lable\n",
       "0    0.612981\n",
       "1    0.624088\n",
       "2    0.590909\n",
       "3    0.650206\n",
       "4    1.000000\n",
       "Name: 0, dtype: float64"
      ]
     },
     "execution_count": 185,
     "metadata": {},
     "output_type": "execute_result"
    }
   ],
   "source": [
    "bullish_lable_winrate"
   ]
  },
  {
   "cell_type": "markdown",
   "metadata": {},
   "source": [
    "*` BDSCAN  `*"
   ]
  },
  {
   "cell_type": "code",
   "execution_count": 192,
   "metadata": {},
   "outputs": [],
   "source": [
    "bearish_DBSCAN = DBSCAN(eps=4, min_samples=5)\n",
    "bearish_DBSCAN.fit(X_train_bearish)\n",
    "y_bearish_pred_DBSCAN = bearish_Kmeans.predict(X_test_bearish)"
   ]
  },
  {
   "cell_type": "code",
   "execution_count": 193,
   "metadata": {},
   "outputs": [
    {
     "name": "stdout",
     "output_type": "stream",
     "text": [
      "[[  0 244]\n",
      " [  1 246]\n",
      " [  2 162]\n",
      " [  3 342]\n",
      " [  4  65]]\n"
     ]
    }
   ],
   "source": [
    "b_unique, b_counts = np.unique(y_bearish_pred_DBSCAN, return_counts=True)\n",
    "print(np.asarray((b_unique, b_counts)).T)"
   ]
  },
  {
   "cell_type": "code",
   "execution_count": null,
   "metadata": {},
   "outputs": [],
   "source": []
  }
 ],
 "metadata": {
  "kernelspec": {
   "display_name": "Python 3 (ipykernel)",
   "language": "python",
   "name": "python3"
  },
  "language_info": {
   "codemirror_mode": {
    "name": "ipython",
    "version": 3
   },
   "file_extension": ".py",
   "mimetype": "text/x-python",
   "name": "python",
   "nbconvert_exporter": "python",
   "pygments_lexer": "ipython3",
   "version": "3.10.4"
  }
 },
 "nbformat": 4,
 "nbformat_minor": 4
}
