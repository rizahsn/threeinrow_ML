{
 "cells": [
  {
   "cell_type": "code",
   "execution_count": 4,
   "metadata": {},
   "outputs": [],
   "source": [
    "from datetime import datetime\n",
    "import pandas as pd\n",
    "import numpy as np\n",
    "import matplotlib.pyplot as plt\n",
    "import seaborn as sns\n",
    "import sklearn\n",
    "from sklearn.model_selection import train_test_split\n",
    "from sklearn import preprocessing\n",
    "from sklearn.metrics import accuracy_score, classification_report, confusion_matrix\n",
    "from sklearn.preprocessing import StandardScaler\n",
    "from sklearn.svm import SVC\n",
    "from sklearn import svm\n",
    "from sklearn.model_selection import GridSearchCV\n",
    "from sklearn.ensemble import RandomForestClassifier\n",
    "from sklearn.tree import DecisionTreeClassifier\n",
    "from sklearn.neighbors import KNeighborsClassifier\n",
    "\n",
    "from sklearn.model_selection import cross_val_score\n"
   ]
  },
  {
   "cell_type": "code",
   "execution_count": null,
   "metadata": {},
   "outputs": [],
   "source": []
  },
  {
   "cell_type": "code",
   "execution_count": 5,
   "metadata": {},
   "outputs": [
    {
     "data": {
      "text/plain": [
       "Index(['Open', 'High', 'Low', 'Close', 'EMA_value_6', 'CCI_3', 'CCI_12',\n",
       "       'CCI_18', 'CCI_24', 'CCI_30', 'ADX', 'RSI_12', 'RSI_14', 'RSI_18',\n",
       "       'RSI_24', 'RSI_30', 'macd', 'macdsignal', 'macdhist', 'Bolinger_upper',\n",
       "       'Bolinger_middle', 'Bolinger_lower', 'ATR', 'threeinrow_type',\n",
       "       'move_strength', 'move_length', 'movemen_range', 'result', 'Entry_bar',\n",
       "       'Entry_price', 'exit_bar', 'close_rice', 'profit', 'exit_price_2',\n",
       "       'CCI_X', 'cci_spead', 'cci_acce', 'cci_acce_avg', 'cci_acce_tag_by_row',\n",
       "       'cci_acce_prob_by_row', 'cum_pnl', 'EMA6', 'distance_tf1',\n",
       "       'distance_tf2', 'rational_strength', 'entry_candle',\n",
       "       'distance_bollinger', 'distance_ratio', 'EMA_distance1_tag',\n",
       "       'EMA_distance1_prob', 'EMA_distance_ratio_tag',\n",
       "       'EMA_distance_ratio_prob', 'rational_strength_tag',\n",
       "       'rational_stregth_prob', 'entry_candle_tag', 'entry_candle_prob',\n",
       "       'distace_bollinger_tag', 'distace_bollinger_prob',\n",
       "       'rational_strength_prob', 'cci_acce_tag', 'cci_acce_prob',\n",
       "       'bollinger_I', 'High_30', 'High_30_ind', 'Low_30', 'Low_30_ind', 'T',\n",
       "       'M', 'O', 'P1', 'P2', 'P', 'Q', 'R', 'degree', 'degree_cat', 'T_cat',\n",
       "       'bollinger_com', 'bollinger_tag', 'bollinger_prob'],\n",
       "      dtype='object')"
      ]
     },
     "execution_count": 5,
     "metadata": {},
     "output_type": "execute_result"
    }
   ],
   "source": [
    "# Loading data\n",
    "data = pd.read_csv(\"trades_clustered_ML_Ver03.csv\",delimiter=\";\")\n",
    "# trade list\n",
    "trades = data.loc[data['profit'] != 0]\n",
    "trades.columns"
   ]
  },
  {
   "cell_type": "code",
   "execution_count": 6,
   "metadata": {},
   "outputs": [],
   "source": [
    "# create trade dataframe\n",
    "trades = trades[['CCI_3','ADX','move_strength','cci_acce_avg','distance_tf1','bollinger_I','macd','threeinrow_type','result',\\\n",
    "                 'distance_tf2','rational_strength','entry_candle','distance_ratio','degree']]\n",
    "#drop null values\n",
    "trades = trades.dropna()\n"
   ]
  },
  {
   "cell_type": "code",
   "execution_count": 7,
   "metadata": {},
   "outputs": [
    {
     "name": "stdout",
     "output_type": "stream",
     "text": [
      "types are ['bearish_3inrow', 'bullish_3inrow'] which is encoded as [0 1]\n",
      "results are ['sl_hit', 'tp_hit'] which is encoded as [0 1]\n"
     ]
    }
   ],
   "source": [
    "#label encoding\n",
    "type_encoder = preprocessing.LabelEncoder()\n",
    "trades['threeinrow_type'] = type_encoder.fit_transform(trades['threeinrow_type'])\n",
    "types =list(type_encoder.classes_)\n",
    "coded_types = type_encoder.transform(types)\n",
    "print(f'types are {types} which is encoded as {coded_types}')\n",
    "\n",
    "\n",
    "type_encoder = preprocessing.LabelEncoder()\n",
    "trades['result'] = type_encoder.fit_transform(trades['result'])\n",
    "result =list(type_encoder.classes_)\n",
    "coded_result = type_encoder.transform(result)\n",
    "print(f'results are {result} which is encoded as {coded_result}')"
   ]
  },
  {
   "cell_type": "code",
   "execution_count": 8,
   "metadata": {},
   "outputs": [],
   "source": [
    "# correct data types\n",
    "trades['result'] = trades['result'].astype(np.int64)\n",
    "trades['threeinrow_type'] = trades['threeinrow_type'].astype(np.int64)\n",
    "\n",
    "#Data grouping\n",
    "trades_bearish = trades[trades['threeinrow_type'] == 0].drop('threeinrow_type',axis=1)\n",
    "trades_bullish = trades[trades['threeinrow_type'] == 1].drop('threeinrow_type',axis=1)\n"
   ]
  },
  {
   "cell_type": "code",
   "execution_count": 9,
   "metadata": {},
   "outputs": [
    {
     "name": "stdout",
     "output_type": "stream",
     "text": [
      "FOR BEARISH: x_train shape is (1000, 12) y_train shape is (1000,) x_test shape is (250, 12) y_test shape is (250,)\n",
      "FOR BULLISH: x_train shape is (1094, 12) y_train shape is (1094,) x_test shape is (274, 12) y_test shape is (274,)\n"
     ]
    }
   ],
   "source": [
    "X_train_bearish, X_test_bearish, Y_train_bearish, Y_test_bearish = train_test_split(trades_bearish.drop(columns=[\"result\"]) ,trades_bearish.result\n",
    "                                                    ,stratify=None,test_size=0.2, shuffle=False)\n",
    "print(f'FOR BEARISH: x_train shape is {X_train_bearish.shape} y_train shape is {Y_train_bearish.shape } x_test shape is {X_test_bearish.shape} y_test shape is {Y_test_bearish.shape}')\n",
    "\n",
    "X_train_bullish, X_test_bullish, Y_train_bullish, Y_test_bullish = train_test_split(trades_bullish.drop(columns=[\"result\"]) ,trades_bullish.result\n",
    "                                                    ,stratify=None,test_size=0.2, shuffle=False)\n",
    "print(f'FOR BULLISH: x_train shape is {X_train_bullish.shape} y_train shape is {Y_train_bullish.shape } x_test shape is {X_test_bullish.shape} y_test shape is {Y_test_bullish.shape}')"
   ]
  },
  {
   "cell_type": "code",
   "execution_count": 10,
   "metadata": {},
   "outputs": [],
   "source": [
    "# Data Normalization\n",
    "scaler = StandardScaler()\n",
    "X_train_bearish = pd.DataFrame(scaler.fit_transform(X_train_bearish))\n",
    "X_test_bearish = pd.DataFrame(scaler.fit_transform(X_test_bearish))\n",
    "\n",
    "X_train_bullish = pd.DataFrame(scaler.fit_transform(X_train_bullish))\n",
    "X_test_bullish = pd.DataFrame(scaler.fit_transform(X_test_bullish))\n",
    "\n"
   ]
  },
  {
   "cell_type": "code",
   "execution_count": 11,
   "metadata": {},
   "outputs": [],
   "source": [
    "# features correlation analysis\n",
    "# corr = trades.drop(columns=[\"result\"]).corr()\n",
    "# corr\n",
    "# fig = plt.figure(figsize=(15, 25))\n",
    "# ax = fig.add_subplot(111)\n",
    "# mask=np.zeros_like(corr)\n",
    "# mask[np.triu_indices_from(mask)] = True\n",
    "# sns.heatmap(corr,\n",
    "#             xticklabels=corr.columns,\n",
    "#             yticklabels=corr.columns,\n",
    "#            ax=ax, mask=mask, square=True,\n",
    "#             cbar_kws={\"shrink\": 0.3},\n",
    "#            cmap=\"binary\")\n",
    "# plt.show()"
   ]
  },
  {
   "cell_type": "code",
   "execution_count": 12,
   "metadata": {},
   "outputs": [
    {
     "name": "stdout",
     "output_type": "stream",
     "text": [
      "model is fitted and predicted for bearish dataset\n",
      "              precision    recall  f1-score   support\n",
      "\n",
      "           0       0.40      0.02      0.05        82\n",
      "           1       0.67      0.98      0.80       168\n",
      "\n",
      "    accuracy                           0.67       250\n",
      "   macro avg       0.54      0.50      0.42       250\n",
      "weighted avg       0.58      0.67      0.55       250\n",
      "\n",
      "The Accuracy for Bearsh Test Set is 66.8\n"
     ]
    },
    {
     "data": {
      "image/png": "[encoded data removed]",
      "text/plain": [
       "<Figure size 432x288 with 1 Axes>"
      ]
     },
     "metadata": {
      "needs_background": "light"
     },
     "output_type": "display_data"
    },
    {
     "data": {
      "image/png": "[encoded data removed]",
      "text/plain": [
       "<Figure size 864x432 with 1 Axes>"
      ]
     },
     "metadata": {
      "needs_background": "light"
     },
     "output_type": "display_data"
    }
   ],
   "source": [
    "# Grid Search for SVM bearish\n",
    "from sklearn.inspection import permutation_importance\n",
    "\n",
    "BearishSVM =  svm.SVC(C=0.1,gamma='auto',kernel='sigmoid')\n",
    "\n",
    "   \n",
    "# fitting the model for grid search Bearish\n",
    "BearishSVM.fit(X_train_bearish,Y_train_bearish)\n",
    "predictions_bearish =BearishSVM.predict(X_test_bearish)\n",
    "\n",
    "\n",
    "perm_importance = permutation_importance(BearishSVM, X_test_bearish, Y_test_bearish,n_repeats=100,random_state=0)\n",
    "feature_names =  trades_bearish.drop('result',axis=1).columns\n",
    "features = np.array(feature_names)\n",
    "sorted_idx = perm_importance.importances_mean.argsort()\n",
    "plt.barh(features[sorted_idx], perm_importance.importances_mean[sorted_idx])\n",
    "plt.xlabel(\"Permutation Importance\")\n",
    "\n",
    "print('model is fitted and predicted for bearish dataset')\n",
    "\n",
    "#Confusion matrix for BEARISH\n",
    "cm=confusion_matrix(Y_test_bearish,predictions_bearish)\n",
    "plt.figure(figsize=(12,6))\n",
    "plt.title(\"Confusion Matrix : Support Vector\")\n",
    "sns.heatmap(cm, annot=True,fmt='d', cmap='Reds',linewidths=5,linecolor='black',cbar=False)\n",
    "plt.ylabel(\"Actual Values\")\n",
    "plt.xlabel(\"Predicted Values\")\n",
    "plt.savefig('confusion_matrix.png')\n",
    "\n",
    "print(classification_report(Y_test_bearish, predictions_bearish)) \n",
    "test_acc_bearish = accuracy_score(Y_test_bearish, predictions_bearish)\n",
    "print(\"The Accuracy for Bearsh Test Set is {}\".format(test_acc_bearish*100))"
   ]
  },
  {
   "cell_type": "code",
   "execution_count": 14,
   "metadata": {},
   "outputs": [
    {
     "name": "stdout",
     "output_type": "stream",
     "text": [
      "model is fitted and predicted for bullish dataset\n",
      "              precision    recall  f1-score   support\n",
      "\n",
      "           0       0.00      0.00      0.00       100\n",
      "           1       0.64      1.00      0.78       174\n",
      "\n",
      "    accuracy                           0.64       274\n",
      "   macro avg       0.32      0.50      0.39       274\n",
      "weighted avg       0.40      0.64      0.49       274\n",
      "\n",
      "The Accuracy for Bullish Test Set is 63.503649635036496\n"
     ]
    },
    {
     "name": "stderr",
     "output_type": "stream",
     "text": [
      "C:\\Program Files\\Python310\\lib\\site-packages\\sklearn\\metrics\\_classification.py:1334: UndefinedMetricWarning: Precision and F-score are ill-defined and being set to 0.0 in labels with no predicted samples. Use `zero_division` parameter to control this behavior.\n",
      "  _warn_prf(average, modifier, msg_start, len(result))\n",
      "C:\\Program Files\\Python310\\lib\\site-packages\\sklearn\\metrics\\_classification.py:1334: UndefinedMetricWarning: Precision and F-score are ill-defined and being set to 0.0 in labels with no predicted samples. Use `zero_division` parameter to control this behavior.\n",
      "  _warn_prf(average, modifier, msg_start, len(result))\n",
      "C:\\Program Files\\Python310\\lib\\site-packages\\sklearn\\metrics\\_classification.py:1334: UndefinedMetricWarning: Precision and F-score are ill-defined and being set to 0.0 in labels with no predicted samples. Use `zero_division` parameter to control this behavior.\n",
      "  _warn_prf(average, modifier, msg_start, len(result))\n"
     ]
    },
    {
     "data": {
      "image/png": "[encoded data removed]",
      "text/plain": [
       "<Figure size 432x288 with 1 Axes>"
      ]
     },
     "metadata": {
      "needs_background": "light"
     },
     "output_type": "display_data"
    },
    {
     "data": {
      "image/png": "[encoded data removed]",
      "text/plain": [
       "<Figure size 864x432 with 1 Axes>"
      ]
     },
     "metadata": {
      "needs_background": "light"
     },
     "output_type": "display_data"
    }
   ],
   "source": [
    "# Grid Search for SVM bullish\n",
    "\n",
    "BullishSVM =  svm.SVC(C=0.05,gamma='scale',kernel='sigmoid')\n",
    "   \n",
    "# fitting the model for grid search Bullish\n",
    "BullishSVM.fit(X_train_bullish,Y_train_bullish)\n",
    "predictions_bullish = BullishSVM.predict(X_test_bullish)\n",
    "\n",
    "perm_importance = permutation_importance(BullishSVM, X_test_bullish, Y_test_bullish,n_repeats=100,random_state=0)\n",
    "feature_names = trades_bullish.drop('result',axis=1).columns\n",
    "features = np.array(feature_names)\n",
    "\n",
    "sorted_idx = perm_importance.importances_mean.argsort()\n",
    "plt.barh(features[sorted_idx], perm_importance.importances_mean[sorted_idx])\n",
    "plt.xlabel(\"Permutation Importance\")\n",
    "\n",
    "print('model is fitted and predicted for bullish dataset')\n",
    "\n",
    "#Confusion matrix for BULLISH\n",
    "cm=confusion_matrix(Y_test_bullish,predictions_bullish)\n",
    "plt.figure(figsize=(12,6))\n",
    "plt.title(\"Confusion Matrix : Support Vector\")\n",
    "sns.heatmap(cm, annot=True,fmt='d', cmap='Reds',linewidths=5,linecolor='black',cbar=False)\n",
    "plt.ylabel(\"Actual Values\")\n",
    "plt.xlabel(\"Predicted Values\")\n",
    "plt.savefig('confusion_matrix.png')\n",
    "\n",
    "print(classification_report(Y_test_bullish, predictions_bullish)) \n",
    "test_acc_bullish = accuracy_score(Y_test_bullish, predictions_bullish)\n",
    "print(\"The Accuracy for Bullish Test Set is {}\".format(test_acc_bullish *100))"
   ]
  },
  {
   "cell_type": "code",
   "execution_count": 26,
   "metadata": {},
   "outputs": [
    {
     "name": "stdout",
     "output_type": "stream",
     "text": [
      "[[0.39817259 0.60182741]\n",
      " [0.38838915 0.61161085]\n",
      " [0.40523293 0.59476707]\n",
      " [0.40334074 0.59665926]\n",
      " [0.40877148 0.59122852]\n",
      " [0.38416443 0.61583557]\n",
      " [0.39795709 0.60204291]\n",
      " [0.38933699 0.61066301]\n",
      " [0.38144849 0.61855151]\n",
      " [0.38682486 0.61317514]\n",
      " [0.40907783 0.59092217]\n",
      " [0.39099824 0.60900176]\n",
      " [0.38153847 0.61846153]\n",
      " [0.40407511 0.59592489]\n",
      " [0.41132723 0.58867277]\n",
      " [0.40670416 0.59329584]\n",
      " [0.40764467 0.59235533]\n",
      " [0.40702437 0.59297563]\n",
      " [0.38479266 0.61520734]\n",
      " [0.40353737 0.59646263]\n",
      " [0.38034506 0.61965494]\n",
      " [0.40044839 0.59955161]\n",
      " [0.39115419 0.60884581]\n",
      " [0.36636065 0.63363935]\n",
      " [0.37917058 0.62082942]\n",
      " [0.41313415 0.58686585]\n",
      " [0.52339345 0.47660655]\n",
      " [0.39950803 0.60049197]\n",
      " [0.3975376  0.6024624 ]\n",
      " [0.57306837 0.42693163]\n",
      " [0.55592977 0.44407023]\n",
      " [0.40146175 0.59853825]\n",
      " [0.36641749 0.63358251]\n",
      " [0.40038953 0.59961047]\n",
      " [0.40226947 0.59773053]\n",
      " [0.39765021 0.60234979]\n",
      " [0.37503903 0.62496097]\n",
      " [0.40307966 0.59692034]\n",
      " [0.40694093 0.59305907]\n",
      " [0.3743229  0.6256771 ]\n",
      " [0.40773159 0.59226841]\n",
      " [0.39805455 0.60194545]\n",
      " [0.38407256 0.61592744]\n",
      " [0.39886603 0.60113397]\n",
      " [0.37955497 0.62044503]\n",
      " [0.39006179 0.60993821]\n",
      " [0.3873189  0.6126811 ]\n",
      " [0.37544232 0.62455768]\n",
      " [0.39198645 0.60801355]\n",
      " [0.40671804 0.59328196]\n",
      " [0.38373581 0.61626419]\n",
      " [0.40563199 0.59436801]\n",
      " [0.42039438 0.57960562]\n",
      " [0.35846237 0.64153763]\n",
      " [0.36471832 0.63528168]\n",
      " [0.40637089 0.59362911]\n",
      " [0.3866176  0.6133824 ]\n",
      " [0.39141389 0.60858611]\n",
      " [0.37755867 0.62244133]\n",
      " [0.35670842 0.64329158]\n",
      " [0.39216269 0.60783731]\n",
      " [0.41123493 0.58876507]\n",
      " [0.41077008 0.58922992]\n",
      " [0.40630513 0.59369487]\n",
      " [0.40865723 0.59134277]\n",
      " [0.38422449 0.61577551]\n",
      " [0.37094052 0.62905948]\n",
      " [0.38841886 0.61158114]\n",
      " [0.37699011 0.62300989]\n",
      " [0.39137699 0.60862301]\n",
      " [0.37948304 0.62051696]\n",
      " [0.40361313 0.59638687]\n",
      " [0.40387621 0.59612379]\n",
      " [0.37331539 0.62668461]\n",
      " [0.38946509 0.61053491]\n",
      " [0.39937631 0.60062369]\n",
      " [0.40120107 0.59879893]\n",
      " [0.40745092 0.59254908]\n",
      " [0.37606961 0.62393039]\n",
      " [0.40765275 0.59234725]\n",
      " [0.40516893 0.59483107]\n",
      " [0.38574829 0.61425171]\n",
      " [0.40566757 0.59433243]\n",
      " [0.3760834  0.6239166 ]\n",
      " [0.40882219 0.59117781]\n",
      " [0.40608523 0.59391477]\n",
      " [0.40964221 0.59035779]\n",
      " [0.36768861 0.63231139]\n",
      " [0.39718727 0.60281273]\n",
      " [0.39307884 0.60692116]\n",
      " [0.37826853 0.62173147]\n",
      " [0.37026026 0.62973974]\n",
      " [0.39810836 0.60189164]\n",
      " [0.40619465 0.59380535]\n",
      " [0.41087871 0.58912129]\n",
      " [0.40894488 0.59105512]\n",
      " [0.38324417 0.61675583]\n",
      " [0.38132086 0.61867914]\n",
      " [0.38535175 0.61464825]\n",
      " [0.37869612 0.62130388]\n",
      " [0.37643315 0.62356685]\n",
      " [0.39798369 0.60201631]\n",
      " [0.3644086  0.6355914 ]\n",
      " [0.37837012 0.62162988]\n",
      " [0.38126744 0.61873256]\n",
      " [0.38042877 0.61957123]\n",
      " [0.37706276 0.62293724]\n",
      " [0.37498191 0.62501809]\n",
      " [0.38465946 0.61534054]\n",
      " [0.38460681 0.61539319]\n",
      " [0.40387266 0.59612734]\n",
      " [0.38974301 0.61025699]\n",
      " [0.38225625 0.61774375]\n",
      " [0.4117019  0.5882981 ]\n",
      " [0.38567392 0.61432608]\n",
      " [0.38143186 0.61856814]\n",
      " [0.4001686  0.5998314 ]\n",
      " [0.40137096 0.59862904]\n",
      " [0.40659118 0.59340882]\n",
      " [0.36470315 0.63529685]\n",
      " [0.37096272 0.62903728]\n",
      " [0.37538068 0.62461932]\n",
      " [0.39548154 0.60451846]\n",
      " [0.40275378 0.59724622]\n",
      " [0.40326621 0.59673379]\n",
      " [0.37082257 0.62917743]\n",
      " [0.38652048 0.61347952]\n",
      " [0.39447384 0.60552616]\n",
      " [0.37341644 0.62658356]\n",
      " [0.37124944 0.62875056]\n",
      " [0.40272782 0.59727218]\n",
      " [0.40446872 0.59553128]\n",
      " [0.3605795  0.6394205 ]\n",
      " [0.4095684  0.5904316 ]\n",
      " [0.38512569 0.61487431]\n",
      " [0.41719765 0.58280235]\n",
      " [0.41432148 0.58567852]\n",
      " [0.41053085 0.58946915]\n",
      " [0.40903817 0.59096183]\n",
      " [0.38433871 0.61566129]\n",
      " [0.37372429 0.62627571]\n",
      " [0.36938548 0.63061452]\n",
      " [0.37224381 0.62775619]\n",
      " [0.41219437 0.58780563]\n",
      " [0.40820736 0.59179264]\n",
      " [0.40762095 0.59237905]\n",
      " [0.38773585 0.61226415]\n",
      " [0.40355031 0.59644969]\n",
      " [0.40098188 0.59901812]\n",
      " [0.40208143 0.59791857]\n",
      " [0.40202897 0.59797103]\n",
      " [0.40321036 0.59678964]\n",
      " [0.39693814 0.60306186]\n",
      " [0.40116615 0.59883385]\n",
      " [0.39041431 0.60958569]\n",
      " [0.42496448 0.57503552]\n",
      " [0.40497059 0.59502941]\n",
      " [0.39943909 0.60056091]\n",
      " [0.40760516 0.59239484]\n",
      " [0.39961984 0.60038016]\n",
      " [0.3861093  0.6138907 ]\n",
      " [0.36449508 0.63550492]\n",
      " [0.36935959 0.63064041]\n",
      " [0.37703104 0.62296896]\n",
      " [0.4017122  0.5982878 ]\n",
      " [0.40175735 0.59824265]\n",
      " [0.40057495 0.59942505]\n",
      " [0.38013132 0.61986868]\n",
      " [0.37767963 0.62232037]\n",
      " [0.37525767 0.62474233]\n",
      " [0.40739245 0.59260755]\n",
      " [0.3871087  0.6128913 ]\n",
      " [0.40355666 0.59644334]\n",
      " [0.38420825 0.61579175]\n",
      " [0.36636229 0.63363771]\n",
      " [0.41249854 0.58750146]\n",
      " [0.38964781 0.61035219]\n",
      " [0.39877523 0.60122477]\n",
      " [0.3790274  0.6209726 ]\n",
      " [0.41223497 0.58776503]\n",
      " [0.40657093 0.59342907]\n",
      " [0.40823209 0.59176791]\n",
      " [0.39814904 0.60185096]\n",
      " [0.40703475 0.59296525]\n",
      " [0.39410559 0.60589441]\n",
      " [0.37377273 0.62622727]\n",
      " [0.36400661 0.63599339]\n",
      " [0.39877657 0.60122343]\n",
      " [0.39560034 0.60439966]\n",
      " [0.40084074 0.59915926]\n",
      " [0.40344331 0.59655669]\n",
      " [0.39958401 0.60041599]\n",
      " [0.38883411 0.61116589]\n",
      " [0.37462759 0.62537241]\n",
      " [0.36920869 0.63079131]\n",
      " [0.40745532 0.59254468]\n",
      " [0.3950643  0.6049357 ]\n",
      " [0.38221809 0.61778191]\n",
      " [0.4090688  0.5909312 ]\n",
      " [0.37497317 0.62502683]\n",
      " [0.392454   0.607546  ]\n",
      " [0.3871133  0.6128867 ]\n",
      " [0.39025102 0.60974898]\n",
      " [0.39080638 0.60919362]\n",
      " [0.40430068 0.59569932]\n",
      " [0.38074554 0.61925446]\n",
      " [0.36930507 0.63069493]\n",
      " [0.4454367  0.5545633 ]\n",
      " [0.37883895 0.62116105]\n",
      " [0.40691284 0.59308716]\n",
      " [0.39653647 0.60346353]\n",
      " [0.38692012 0.61307988]\n",
      " [0.39916365 0.60083635]\n",
      " [0.38469153 0.61530847]\n",
      " [0.40708508 0.59291492]\n",
      " [0.37754666 0.62245334]\n",
      " [0.38011001 0.61988999]\n",
      " [0.36845889 0.63154111]\n",
      " [0.41373995 0.58626005]\n",
      " [0.41046528 0.58953472]\n",
      " [0.40964652 0.59035348]\n",
      " [0.39695928 0.60304072]\n",
      " [0.38255927 0.61744073]\n",
      " [0.40551637 0.59448363]\n",
      " [0.40378741 0.59621259]\n",
      " [0.41351781 0.58648219]\n",
      " [0.38073737 0.61926263]\n",
      " [0.35844001 0.64155999]\n",
      " [0.39074981 0.60925019]\n",
      " [0.39955574 0.60044426]\n",
      " [0.40054419 0.59945581]\n",
      " [0.36767503 0.63232497]\n",
      " [0.43972743 0.56027257]\n",
      " [0.36914602 0.63085398]\n",
      " [0.38719579 0.61280421]\n",
      " [0.38738122 0.61261878]\n",
      " [0.38536094 0.61463906]\n",
      " [0.39184021 0.60815979]\n",
      " [0.36701988 0.63298012]\n",
      " [0.40605152 0.59394848]\n",
      " [0.4121747  0.5878253 ]\n",
      " [0.39704538 0.60295462]\n",
      " [0.39612334 0.60387666]\n",
      " [0.39441046 0.60558954]\n",
      " [0.41566131 0.58433869]\n",
      " [0.39146401 0.60853599]\n",
      " [0.37183816 0.62816184]\n",
      " [0.39528829 0.60471171]\n",
      " [0.39521186 0.60478814]\n",
      " [0.38013027 0.61986973]]\n",
      "0\n"
     ]
    }
   ],
   "source": [
    "# fitting amd prdiction with prob\n",
    "\n",
    "BearishSVM_prob =  svm.SVC(C=0.1,gamma='auto',kernel='sigmoid',probability=True)\n",
    "BearishSVM_prob.fit(X_train_bearish,Y_train_bearish)\n",
    "\n",
    "predictions_proba_bearish =BearishSVM_prob.predict_proba(X_test_bearish)\n",
    "print(predictions_proba_bearish)\n",
    "print(np.sum(predictions_proba_bearish>0.65))"
   ]
  },
  {
   "cell_type": "code",
   "execution_count": 25,
   "metadata": {},
   "outputs": [
    {
     "name": "stdout",
     "output_type": "stream",
     "text": [
      "2\n"
     ]
    }
   ],
   "source": []
  },
  {
   "cell_type": "code",
   "execution_count": null,
   "metadata": {},
   "outputs": [],
   "source": []
  }
 ],
 "metadata": {
  "kernelspec": {
   "display_name": "Python 3",
   "language": "python",
   "name": "python3"
  },
  "language_info": {
   "codemirror_mode": {
    "name": "ipython",
    "version": 3
   },
   "file_extension": ".py",
   "mimetype": "text/x-python",
   "name": "python",
   "nbconvert_exporter": "python",
   "pygments_lexer": "ipython3",
   "version": "3.7.6"
  }
 },
 "nbformat": 4,
 "nbformat_minor": 5
}
