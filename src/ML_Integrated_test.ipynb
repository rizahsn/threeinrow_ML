{
 "cells": [
  {
   "cell_type": "code",
   "execution_count": 5,
   "id": "e175185e-1151-47f0-ad05-a8b68a1b0b1c",
   "metadata": {},
   "outputs": [],
   "source": [
    "def warn(*args, **kwargs):\n",
    "    pass\n",
    "import warnings\n",
    "warnings.warn = warn\n",
    "\n",
    "from datetime import datetime\n",
    "import pandas as pd\n",
    "import numpy as np\n",
    "import matplotlib.pyplot as plt\n",
    "import seaborn as sns\n",
    "import sklearn\n",
    "from sklearn.model_selection import train_test_split\n",
    "from sklearn import preprocessing\n",
    "from sklearn.metrics import accuracy_score, classification_report, confusion_matrix\n",
    "from sklearn.preprocessing import StandardScaler\n",
    "\n",
    "from sklearn.svm import SVC\n",
    "from sklearn import svm\n",
    "from sklearn.model_selection import GridSearchCV\n",
    "from sklearn.ensemble import RandomForestClassifier\n",
    "from sklearn.tree import DecisionTreeClassifier\n",
    "from sklearn.neighbors import KNeighborsClassifier\n",
    "from sklearn.cluster import KMeans\n",
    "from sklearn.inspection import permutation_importance\n",
    "\n",
    "pd.options.mode.chained_assignment = None  # default='warn'\n",
    "from warnings import simplefilter\n",
    "import warnings\n",
    "warnings.filterwarnings(\"ignore\")\n",
    "\n",
    "simplefilter(action='ignore', category=FutureWarning)\n"
   ]
  },
  {
   "cell_type": "code",
   "execution_count": 60,
   "id": "20a53da7-73e4-432d-862b-2782ff863075",
   "metadata": {},
   "outputs": [
    {
     "data": {
      "text/plain": [
       "Index(['Unnamed: 0', 'Datetime', 'Open', 'High', 'Low', 'Close', 'EMA_value_6',\n",
       "       'CCI_3', 'CCI_12', 'CCI_18', 'CCI_24', 'CCI_30', 'ADX', 'RSI_12',\n",
       "       'RSI_14', 'RSI_18', 'RSI_24', 'RSI_30', 'macd', 'macdsignal',\n",
       "       'macdhist', 'Bolinger_upper', 'Bolinger_middle', 'Bolinger_lower',\n",
       "       'ATR', 'threeinrow_type', 'move_strength', 'move_length',\n",
       "       'movemen_range', 'result', 'Entry_bar', 'Entry_price', 'exit_bar',\n",
       "       'close_rice', 'profit', 'exit_price_2', 'CCI_X', 'cci_spead',\n",
       "       'cci_acce', 'cci_acce_avg', 'cci_acce_tag_by_row',\n",
       "       'cci_acce_prob_by_row', 'cum_pnl', 'EMA6', 'distance_tf1',\n",
       "       'distance_tf2', 'rational_strength', 'entry_candle',\n",
       "       'distance_bollinger', 'distance_ratio', 'EMA_distance1_tag',\n",
       "       'EMA_distance1_prob', 'EMA_distance_ratio_tag',\n",
       "       'EMA_distance_ratio_prob', 'rational_strength_tag',\n",
       "       'rational_stregth_prob', 'entry_candle_tag', 'entry_candle_prob',\n",
       "       'distace_bollinger_tag', 'distace_bollinger_prob',\n",
       "       'rational_strength_prob', 'cci_acce_tag', 'cci_acce_prob',\n",
       "       'bollinger_I', 'High_30', 'High_30_ind', 'Low_30', 'Low_30_ind', 'T',\n",
       "       'M', 'O', 'P1', 'P2', 'P', 'Q', 'R', 'degree', 'degree_cat', 'T_cat',\n",
       "       'bollinger_com', 'bollinger_tag', 'bollinger_prob'],\n",
       "      dtype='object')"
      ]
     },
     "execution_count": 60,
     "metadata": {},
     "output_type": "execute_result"
    }
   ],
   "source": [
    "# Read data and delete result column\n",
    "train_data_all = pd.read_csv(\"train_data_2010_2021.csv\",delimiter=\",\")\n",
    "test_data_all = pd.read_csv(\"test_data_2022.csv\",delimiter=\",\")\n",
    "# trade list\n",
    "\n",
    "\n",
    "train_trades = train_data_all.loc[train_data_all['profit'] != 0]\n",
    "test_trades = test_data_all.loc[test_data_all['profit'] != 0]\n",
    "test_trades.columns\n"
   ]
  },
  {
   "cell_type": "code",
   "execution_count": 61,
   "id": "7085d965-7d92-4011-989f-9a8865c3451a",
   "metadata": {},
   "outputs": [],
   "source": [
    "# create trade dataframe\n",
    "train_trades = train_trades[['CCI_3','ADX','RSI_12','CCI_18','move_strength','cci_acce_avg','distance_tf1','bollinger_I','macd','threeinrow_type','result',\\\n",
    "                 'distance_tf2','rational_strength','entry_candle','distance_ratio','degree','cci_acce']]\n",
    "test_trades = test_trades[['CCI_3','ADX','RSI_12','CCI_18','move_strength','cci_acce_avg','distance_tf1','bollinger_I','macd','threeinrow_type','result',\\\n",
    "                 'distance_tf2','rational_strength','entry_candle','distance_ratio','degree','cci_acce','profit']]\n",
    "\n",
    "\n",
    "\n",
    "#drop null values\n",
    "train_trades = train_trades.dropna()\n",
    "test_trades = test_trades.dropna()"
   ]
  },
  {
   "cell_type": "code",
   "execution_count": 62,
   "id": "a8fc4b1e-00d4-4ef4-a86c-e10726c803b0",
   "metadata": {},
   "outputs": [
    {
     "name": "stdout",
     "output_type": "stream",
     "text": [
      "types are ['bearish_3inrow', 'bullish_3inrow'] which is encoded as [0 1]\n",
      "results are ['sl_hit', 'tp_hit'] which is encoded as [0 1]\n",
      "types are ['bearish_3inrow', 'bullish_3inrow'] which is encoded as [0 1]\n",
      "results are ['sl_hit', 'tp_hit'] which is encoded as [0 1]\n"
     ]
    }
   ],
   "source": [
    "#label encoding\n",
    "type_encoder = preprocessing.LabelEncoder()\n",
    "train_trades['threeinrow_type'] = type_encoder.fit_transform(train_trades['threeinrow_type'])\n",
    "types =list(type_encoder.classes_)\n",
    "coded_types = type_encoder.transform(types)\n",
    "print(f'types are {types} which is encoded as {coded_types}')\n",
    "\n",
    "\n",
    "type_encoder = preprocessing.LabelEncoder()\n",
    "train_trades['result'] = type_encoder.fit_transform(train_trades['result'])\n",
    "result =list(type_encoder.classes_)\n",
    "coded_result = type_encoder.transform(result)\n",
    "print(f'results are {result} which is encoded as {coded_result}')\n",
    "\n",
    "#label encoding\n",
    "type_encoder = preprocessing.LabelEncoder()\n",
    "test_trades['threeinrow_type'] = type_encoder.fit_transform(test_trades['threeinrow_type'])\n",
    "types =list(type_encoder.classes_)\n",
    "coded_types = type_encoder.transform(types)\n",
    "print(f'types are {types} which is encoded as {coded_types}')\n",
    "\n",
    "\n",
    "type_encoder = preprocessing.LabelEncoder()\n",
    "test_trades['result'] = type_encoder.fit_transform(test_trades['result'])\n",
    "result =list(type_encoder.classes_)\n",
    "coded_result = type_encoder.transform(result)\n",
    "print(f'results are {result} which is encoded as {coded_result}')"
   ]
  },
  {
   "cell_type": "code",
   "execution_count": 63,
   "id": "2abcd27f-e0a2-4fa0-9f3c-79f4376357bd",
   "metadata": {},
   "outputs": [],
   "source": [
    "# correct data types\n",
    "train_trades['result'] = train_trades['result'].astype(np.int64)\n",
    "train_trades['threeinrow_type'] = train_trades['threeinrow_type'].astype(np.int64)\n",
    "\n",
    "#Data grouping\n",
    "train_trades_bearish = train_trades[train_trades['threeinrow_type'] == 0].drop('threeinrow_type',axis=1)\n",
    "train_trades_bullish = train_trades[train_trades['threeinrow_type'] == 1].drop('threeinrow_type',axis=1)\n",
    "\n",
    "# correct data types\n",
    "test_trades['result'] = test_trades['result'].astype(np.int64)\n",
    "test_trades['threeinrow_type'] = test_trades['threeinrow_type'].astype(np.int64)\n",
    "\n",
    "#Data grouping\n",
    "test_trades_bearish = test_trades[test_trades['threeinrow_type'] == 0].drop('threeinrow_type',axis=1)\n",
    "test_trades_bullish = test_trades[test_trades['threeinrow_type'] == 1].drop('threeinrow_type',axis=1)"
   ]
  },
  {
   "cell_type": "code",
   "execution_count": 64,
   "id": "f2cda18b-5c3c-40e7-9823-5c75064e97d9",
   "metadata": {},
   "outputs": [],
   "source": [
    "# split test and train data\n",
    "X_train_trades_bearish = train_trades_bearish.drop(columns=[\"result\"]).values\n",
    "X_train_trades_bullish = train_trades_bullish.drop(columns=[\"result\"]).values\n",
    "Y_train_trades_bearish = train_trades_bearish[\"result\"].values\n",
    "Y_train_trades_bullish = train_trades_bullish[\"result\"].values\n",
    "\n",
    "X_test_trades_bearish = test_trades_bearish.drop(columns=[\"result\"])\n",
    "X_test_trades_bullish = test_trades_bullish.drop(columns=[\"result\"])\n",
    "Y_test_trades_bearish = test_trades_bearish[\"result\"]\n",
    "Y_test_trades_bullish = test_trades_bullish[\"result\"]"
   ]
  },
  {
   "cell_type": "code",
   "execution_count": 65,
   "id": "cd96726b-f47c-43f3-804c-15789b5ad65a",
   "metadata": {},
   "outputs": [
    {
     "name": "stdout",
     "output_type": "stream",
     "text": [
      "X_train_trades_bearish (1191, 15), X_train_trades_bullish (1311, 15), Y_train_trades_bearish (1191,),Y_train_trades_bullish (1311,)\n"
     ]
    }
   ],
   "source": [
    "print(f'X_train_trades_bearish {X_train_trades_bearish.shape}, X_train_trades_bullish {X_train_trades_bullish.shape}, Y_train_trades_bearish {Y_train_trades_bearish.shape},Y_train_trades_bullish {Y_train_trades_bullish.shape}')\n"
   ]
  },
  {
   "cell_type": "code",
   "execution_count": 66,
   "id": "82b11dea-2962-4ef9-ab38-4f5921086987",
   "metadata": {},
   "outputs": [],
   "source": [
    "# Data Normalization\n",
    "scaler = StandardScaler()\n",
    "X_train_trades_bearish = pd.DataFrame(scaler.fit_transform(X_train_trades_bearish))\n",
    "X_train_trades_bullish = pd.DataFrame(scaler.fit_transform(X_train_trades_bullish))\n"
   ]
  },
  {
   "cell_type": "code",
   "execution_count": 67,
   "id": "d095a364-d488-49d2-a8db-e64df8f361d4",
   "metadata": {},
   "outputs": [
    {
     "data": {
      "text/html": [
       "<style>#sk-container-id-5 {color: black;background-color: white;}#sk-container-id-5 pre{padding: 0;}#sk-container-id-5 div.sk-toggleable {background-color: white;}#sk-container-id-5 label.sk-toggleable__label {cursor: pointer;display: block;width: 100%;margin-bottom: 0;padding: 0.3em;box-sizing: border-box;text-align: center;}#sk-container-id-5 label.sk-toggleable__label-arrow:before {content: \"▸\";float: left;margin-right: 0.25em;color: #696969;}#sk-container-id-5 label.sk-toggleable__label-arrow:hover:before {color: black;}#sk-container-id-5 div.sk-estimator:hover label.sk-toggleable__label-arrow:before {color: black;}#sk-container-id-5 div.sk-toggleable__content {max-height: 0;max-width: 0;overflow: hidden;text-align: left;background-color: #f0f8ff;}#sk-container-id-5 div.sk-toggleable__content pre {margin: 0.2em;color: black;border-radius: 0.25em;background-color: #f0f8ff;}#sk-container-id-5 input.sk-toggleable__control:checked~div.sk-toggleable__content {max-height: 200px;max-width: 100%;overflow: auto;}#sk-container-id-5 input.sk-toggleable__control:checked~label.sk-toggleable__label-arrow:before {content: \"▾\";}#sk-container-id-5 div.sk-estimator input.sk-toggleable__control:checked~label.sk-toggleable__label {background-color: #d4ebff;}#sk-container-id-5 div.sk-label input.sk-toggleable__control:checked~label.sk-toggleable__label {background-color: #d4ebff;}#sk-container-id-5 input.sk-hidden--visually {border: 0;clip: rect(1px 1px 1px 1px);clip: rect(1px, 1px, 1px, 1px);height: 1px;margin: -1px;overflow: hidden;padding: 0;position: absolute;width: 1px;}#sk-container-id-5 div.sk-estimator {font-family: monospace;background-color: #f0f8ff;border: 1px dotted black;border-radius: 0.25em;box-sizing: border-box;margin-bottom: 0.5em;}#sk-container-id-5 div.sk-estimator:hover {background-color: #d4ebff;}#sk-container-id-5 div.sk-parallel-item::after {content: \"\";width: 100%;border-bottom: 1px solid gray;flex-grow: 1;}#sk-container-id-5 div.sk-label:hover label.sk-toggleable__label {background-color: #d4ebff;}#sk-container-id-5 div.sk-serial::before {content: \"\";position: absolute;border-left: 1px solid gray;box-sizing: border-box;top: 0;bottom: 0;left: 50%;z-index: 0;}#sk-container-id-5 div.sk-serial {display: flex;flex-direction: column;align-items: center;background-color: white;padding-right: 0.2em;padding-left: 0.2em;position: relative;}#sk-container-id-5 div.sk-item {position: relative;z-index: 1;}#sk-container-id-5 div.sk-parallel {display: flex;align-items: stretch;justify-content: center;background-color: white;position: relative;}#sk-container-id-5 div.sk-item::before, #sk-container-id-5 div.sk-parallel-item::before {content: \"\";position: absolute;border-left: 1px solid gray;box-sizing: border-box;top: 0;bottom: 0;left: 50%;z-index: -1;}#sk-container-id-5 div.sk-parallel-item {display: flex;flex-direction: column;z-index: 1;position: relative;background-color: white;}#sk-container-id-5 div.sk-parallel-item:first-child::after {align-self: flex-end;width: 50%;}#sk-container-id-5 div.sk-parallel-item:last-child::after {align-self: flex-start;width: 50%;}#sk-container-id-5 div.sk-parallel-item:only-child::after {width: 0;}#sk-container-id-5 div.sk-dashed-wrapped {border: 1px dashed gray;margin: 0 0.4em 0.5em 0.4em;box-sizing: border-box;padding-bottom: 0.4em;background-color: white;}#sk-container-id-5 div.sk-label label {font-family: monospace;font-weight: bold;display: inline-block;line-height: 1.2em;}#sk-container-id-5 div.sk-label-container {text-align: center;}#sk-container-id-5 div.sk-container {/* jupyter's `normalize.less` sets `[hidden] { display: none; }` but bootstrap.min.css set `[hidden] { display: none !important; }` so we also need the `!important` here to be able to override the default hidden behavior on the sphinx rendered scikit-learn.org. See: https://github.com/scikit-learn/scikit-learn/issues/21755 */display: inline-block !important;position: relative;}#sk-container-id-5 div.sk-text-repr-fallback {display: none;}</style><div id=\"sk-container-id-5\" class=\"sk-top-container\"><div class=\"sk-text-repr-fallback\"><pre>SVC(C=0.1, gamma=&#x27;auto&#x27;, kernel=&#x27;sigmoid&#x27;)</pre><b>In a Jupyter environment, please rerun this cell to show the HTML representation or trust the notebook. <br />On GitHub, the HTML representation is unable to render, please try loading this page with nbviewer.org.</b></div><div class=\"sk-container\" hidden><div class=\"sk-item\"><div class=\"sk-estimator sk-toggleable\"><input class=\"sk-toggleable__control sk-hidden--visually\" id=\"sk-estimator-id-5\" type=\"checkbox\" checked><label for=\"sk-estimator-id-5\" class=\"sk-toggleable__label sk-toggleable__label-arrow\">SVC</label><div class=\"sk-toggleable__content\"><pre>SVC(C=0.1, gamma=&#x27;auto&#x27;, kernel=&#x27;sigmoid&#x27;)</pre></div></div></div></div></div>"
      ],
      "text/plain": [
       "SVC(C=0.1, gamma='auto', kernel='sigmoid')"
      ]
     },
     "execution_count": 67,
     "metadata": {},
     "output_type": "execute_result"
    }
   ],
   "source": [
    "# create SVM model\n",
    "BearishSVM =  svm.SVC(C=0.1,gamma='auto',kernel='sigmoid')\n",
    "BearishSVM.fit(X_train_trades_bearish,Y_train_trades_bearish)\n",
    "\n",
    "\n",
    "# BullishSVM =  svm.SVC(C=0.05,gamma='scale',kernel='sigmoid')\n",
    "BullishSVM =  svm.SVC(C=0.1,gamma='auto',kernel='sigmoid')\n",
    "BullishSVM.fit(X_train_trades_bullish,Y_train_trades_bullish)\n"
   ]
  },
  {
   "cell_type": "code",
   "execution_count": 68,
   "id": "fb7f4aba-1e25-4cab-b77a-5b10b58046f5",
   "metadata": {},
   "outputs": [],
   "source": [
    "# drop profit column from test datat\n",
    "X_test_trades_bearish = X_test_trades_bearish.drop('profit',axis=1)\n",
    "X_test_trades_bullish = X_test_trades_bullish.drop('profit',axis=1)"
   ]
  },
  {
   "cell_type": "code",
   "execution_count": 69,
   "id": "989f68fb-e59c-4510-ad07-1e27452ca313",
   "metadata": {},
   "outputs": [],
   "source": [
    "# predict trade result\n",
    "test_trades_bearish['predicted_result'] = BearishSVM.predict(X_test_trades_bearish)\n",
    "test_trades_bullish['predicted_result'] = BullishSVM.predict(X_test_trades_bullish)\n"
   ]
  },
  {
   "cell_type": "code",
   "execution_count": 70,
   "id": "169915b5-72d8-4971-8206-e52c3d46ac1f",
   "metadata": {},
   "outputs": [
    {
     "name": "stdout",
     "output_type": "stream",
     "text": [
      "model is fitted and predicted for bearish dataset\n",
      "              precision    recall  f1-score   support\n",
      "\n",
      "           0       0.38      0.22      0.28        36\n",
      "           1       0.67      0.81      0.74        70\n",
      "\n",
      "    accuracy                           0.61       106\n",
      "   macro avg       0.53      0.52      0.51       106\n",
      "weighted avg       0.57      0.61      0.58       106\n",
      "\n",
      "The Accuracy for Bearsh Test Set is 61.32075471698113\n"
     ]
    },
    {
     "data": {
      "image/png": "[encoded data removed]",
      "text/plain": [
       "<Figure size 432x288 with 1 Axes>"
      ]
     },
     "metadata": {
      "needs_background": "light"
     },
     "output_type": "display_data"
    },
    {
     "data": {
      "image/png": "[encoded data removed]",
      "text/plain": [
       "<Figure size 864x432 with 1 Axes>"
      ]
     },
     "metadata": {
      "needs_background": "light"
     },
     "output_type": "display_data"
    }
   ],
   "source": [
    "# feature iportance analysis\n",
    "perm_importance = permutation_importance(BearishSVM, X_test_trades_bearish, Y_test_trades_bearish,n_repeats=100,random_state=0)\n",
    "feature_names =  test_trades_bearish.drop('result',axis=1).columns\n",
    "features = np.array(feature_names)\n",
    "sorted_idx = perm_importance.importances_mean.argsort()\n",
    "plt.barh(features[sorted_idx], perm_importance.importances_mean[sorted_idx])\n",
    "plt.xlabel(\"Permutation Importance\")\n",
    "\n",
    "print('model is fitted and predicted for bearish dataset')\n",
    "\n",
    "#Confusion matrix for BEARISH\n",
    "cm=confusion_matrix(Y_test_trades_bearish,test_trades_bearish['predicted_result'])\n",
    "plt.figure(figsize=(12,6))\n",
    "plt.title(\"Confusion Matrix : Support Vector\")\n",
    "sns.heatmap(cm, annot=True,fmt='d', cmap='Reds',linewidths=5,linecolor='black',cbar=False)\n",
    "plt.ylabel(\"Actual Values\")\n",
    "plt.xlabel(\"Predicted Values\")\n",
    "plt.savefig('confusion_matrix.png')\n",
    "\n",
    "print(classification_report(Y_test_trades_bearish, test_trades_bearish['predicted_result'])) \n",
    "test_acc_bearish = accuracy_score(Y_test_trades_bearish, test_trades_bearish['predicted_result'])\n",
    "print(\"The Accuracy for Bearsh Test Set is {}\".format(test_acc_bearish*100))"
   ]
  },
  {
   "cell_type": "code",
   "execution_count": 71,
   "id": "8c8e601f-f2ee-4873-998b-f6dabaa737a0",
   "metadata": {},
   "outputs": [
    {
     "data": {
      "image/png": "[encoded data removed]",
      "text/plain": [
       "<Figure size 432x288 with 1 Axes>"
      ]
     },
     "metadata": {
      "needs_background": "light"
     },
     "output_type": "display_data"
    },
    {
     "name": "stdout",
     "output_type": "stream",
     "text": [
      "model is fitted and predicted for bearish dataset\n"
     ]
    },
    {
     "data": {
      "image/png": "[encoded data removed]",
      "text/plain": [
       "<Figure size 864x432 with 1 Axes>"
      ]
     },
     "metadata": {
      "needs_background": "light"
     },
     "output_type": "display_data"
    },
    {
     "name": "stdout",
     "output_type": "stream",
     "text": [
      "              precision    recall  f1-score   support\n",
      "\n",
      "           0       0.38      0.08      0.13        39\n",
      "           1       0.68      0.94      0.79        80\n",
      "\n",
      "    accuracy                           0.66       119\n",
      "   macro avg       0.53      0.51      0.46       119\n",
      "weighted avg       0.58      0.66      0.57       119\n",
      "\n",
      "The Accuracy for Bullish Test Set is 65.54621848739495\n"
     ]
    }
   ],
   "source": [
    "# feature iportance analysis\n",
    "perm_importance = permutation_importance(BullishSVM, X_test_trades_bullish, Y_test_trades_bullish,n_repeats=100,random_state=0)\n",
    "feature_names =  test_trades_bullish.drop('result',axis=1).columns\n",
    "features = np.array(feature_names)\n",
    "sorted_idx = perm_importance.importances_mean.argsort()\n",
    "plt.barh(features[sorted_idx], perm_importance.importances_mean[sorted_idx])\n",
    "plt.xlabel(\"Permutation Importance\")\n",
    "plt.show()\n",
    "print('model is fitted and predicted for bearish dataset')\n",
    "\n",
    "#Confusion matrix for Bullish\n",
    "cm=confusion_matrix(Y_test_trades_bullish,test_trades_bullish['predicted_result'])\n",
    "plt.figure(figsize=(12,6))\n",
    "plt.title(\"Confusion Matrix : Support Vector\")\n",
    "sns.heatmap(cm, annot=True,fmt='d', cmap='Reds',linewidths=5,linecolor='black',cbar=False)\n",
    "plt.ylabel(\"Actual Values\")\n",
    "plt.xlabel(\"Predicted Values\")\n",
    "plt.show()\n",
    "print(classification_report(Y_test_trades_bullish, test_trades_bullish['predicted_result'])) \n",
    "test_acc_bullish = accuracy_score(Y_test_trades_bullish, test_trades_bullish['predicted_result'])\n",
    "print(\"The Accuracy for Bullish Test Set is {}\".format(test_acc_bullish*100))"
   ]
  },
  {
   "cell_type": "code",
   "execution_count": 74,
   "id": "8310bbe1-bab9-4451-9f38-033d0d553eea",
   "metadata": {},
   "outputs": [],
   "source": [
    "# Create Kmeans Model\n",
    "bearish_kmeans = KMeans(\n",
    "           init=\"k-means++\",\n",
    "           n_clusters=5,\n",
    "           n_init=10,\n",
    "           max_iter=300,\n",
    "           random_state=42\n",
    "  )\n",
    "\n",
    "\n",
    "bullish_kmeans = KMeans(\n",
    "           init=\"k-means++\",\n",
    "           n_clusters=5,\n",
    "           n_init=10,\n",
    "           max_iter=300,\n",
    "           random_state=42\n",
    "  )\n"
   ]
  },
  {
   "cell_type": "code",
   "execution_count": 75,
   "id": "9fe9b46c-4f8a-4773-a136-e3594eb5d87a",
   "metadata": {},
   "outputs": [],
   "source": [
    "bearsih_kmeans_model = bearish_kmeans.fit(X_train_trades_bearish)\n",
    "bullsih_kmeans_model = bullish_kmeans.fit(X_train_trades_bullish)"
   ]
  },
  {
   "cell_type": "code",
   "execution_count": 76,
   "id": "dbf2de67-6009-4af4-bc26-b136c9ee1158",
   "metadata": {},
   "outputs": [
    {
     "name": "stdout",
     "output_type": "stream",
     "text": [
      "[[  0 121]\n",
      " [  1 427]\n",
      " [  2 264]\n",
      " [  3   3]\n",
      " [  4 376]]\n"
     ]
    }
   ],
   "source": [
    "# labels for train data\n",
    "bearish_labels =bearish_kmeans.labels_\n",
    "unique, counts = np.unique(bearish_labels, return_counts=True)\n",
    "print(np.asarray((unique, counts)).T)"
   ]
  },
  {
   "cell_type": "code",
   "execution_count": 77,
   "id": "d50409c6-c3a1-44b0-b1ae-cf036cb93710",
   "metadata": {},
   "outputs": [],
   "source": [
    "# predict labels for test data\n",
    "test_trades_bearish['predicted_cluster'] = bearsih_kmeans_model.predict(X_test_trades_bearish)\n",
    "test_trades_bullish['predicted_cluster'] = bullsih_kmeans_model.predict(X_test_trades_bullish)"
   ]
  },
  {
   "cell_type": "code",
   "execution_count": 78,
   "id": "a5ae8e17-8859-4406-8398-40652458b20b",
   "metadata": {},
   "outputs": [],
   "source": [
    "#reset index \n",
    "test_trades_bearish = test_trades_bearish.reset_index()\n",
    "test_trades_bullish=test_trades_bullish.reset_index()"
   ]
  },
  {
   "cell_type": "code",
   "execution_count": 79,
   "id": "cf0d5232-57c3-4cab-8482-b254d2bbea39",
   "metadata": {},
   "outputs": [
    {
     "name": "stdout",
     "output_type": "stream",
     "text": [
      "                   trades  wins   winrate\n",
      "predicted_cluster                        \n",
      "0                      25    13  0.520000\n",
      "2                      62    46  0.741935\n",
      "3                      19    11  0.578947\n",
      "                   trades  wins   winrate\n",
      "predicted_cluster                        \n",
      "1                     119    80  0.672269\n"
     ]
    }
   ],
   "source": [
    "# create a summry table for predicted labels\n",
    "bearish_clusters =pd.DataFrame()\n",
    "bearish_clusters['trades'] = test_trades_bearish.groupby('predicted_cluster')['index'].count()\n",
    "bearish_clusters['wins'] = test_trades_bearish.loc[test_trades_bearish['result']==1].groupby('predicted_cluster')['index'].count()\n",
    "bearish_clusters['winrate'] =bearish_clusters['wins'] / bearish_clusters['trades']\n",
    "print(bearish_clusters)\n",
    "test_trades_bearish['cluster_Vol.'] = test_trades_bearish.loc[test_trades_bearish['predicted_cluster']<=0.62] = 0 \n",
    "test_trades_bearish['cluster_Vol.'] = test_trades_bearish.loc[(test_trades_bearish['predicted_cluster']>0.62)&(test_trades_bearish['predicted_cluster']<=0.69)] = 1 \n",
    "test_trades_bearish['cluster_Vol.'] = test_trades_bearish.loc[test_trades_bearish['predicted_cluster']>=70] = 2\n",
    "\n",
    "bullish_clusters =pd.DataFrame()\n",
    "bullish_clusters['trades'] = test_trades_bullish.groupby('predicted_cluster')['index'].count()\n",
    "bullish_clusters['wins'] = test_trades_bullish.loc[test_trades_bullish['result']==1].groupby('predicted_cluster')['index'].count()\n",
    "bullish_clusters['winrate'] =bullish_clusters['wins'] /bullish_clusters['trades']\n",
    "print(bullish_clusters)\n",
    "test_trades_bullish['cluster_Vol.'] = test_trades_bullish.loc[test_trades_bullish['predicted_cluster']<=0.62] = 0 \n",
    "test_trades_bullish['cluster_Vol.'] = test_trades_bullish.loc[(test_trades_bullish['predicted_cluster']>0.62)&(test_trades_bullish['predicted_cluster']<=0.69)] = 1 \n",
    "test_trades_bullish['cluster_Vol.'] = test_trades_bullish.loc[test_trades_bullish['predicted_cluster']>=70] = 2\n"
   ]
  },
  {
   "cell_type": "code",
   "execution_count": null,
   "id": "23c77c0f-a1cd-4847-ac2a-8c507e9bbfc6",
   "metadata": {},
   "outputs": [],
   "source": [
    "# merge predicted values to prepare it for summerize\n",
    "predicted_trades = test_trades_bearish.append(test_trades_bullish)\n",
    "predicted_trades = predicted_trades.sort_values('index')\n"
   ]
  },
  {
   "cell_type": "code",
   "execution_count": null,
   "id": "948776c3-ae16-487b-9dc4-79edd61ccdf0",
   "metadata": {},
   "outputs": [],
   "source": [
    "#predicted_trades.to_csv('dd.csv')"
   ]
  },
  {
   "cell_type": "code",
   "execution_count": null,
   "id": "f064271c-17d8-4340-9061-2183b5fd97c2",
   "metadata": {},
   "outputs": [],
   "source": [
    "predicted_trades['modified_profit'] = predicted_trades['profit'] * predicted_trades['cluster_Vol.'] * predicted_trades['predicted_result']\n",
    "predicted_trades['profit_cum_sum'] = predicted_trades['profit'].cumsum()\n",
    "predicted_trades['modified_profit_cum_sum'] = predicted_trades['modified_profit'].cumsum()\n"
   ]
  },
  {
   "cell_type": "code",
   "execution_count": null,
   "id": "0a20f08b-bdb9-4bf8-8214-70f468f5b81e",
   "metadata": {},
   "outputs": [],
   "source": [
    "ax = plt.gca()\n",
    "predicted_trades.plot(kind='line',x='index',y='profit_cum_sum',ax=ax)\n",
    "predicted_trades.plot(kind='line',x='index',y='modified_profit_cum_sum', color='red', ax=ax)\n",
    "plt.show()"
   ]
  },
  {
   "cell_type": "code",
   "execution_count": null,
   "id": "99b8336a-96d1-4b44-b21d-5a5262f48c81",
   "metadata": {},
   "outputs": [],
   "source": []
  },
  {
   "cell_type": "code",
   "execution_count": null,
   "id": "240df01f-00ee-4ab7-819a-3ffb13ad6190",
   "metadata": {},
   "outputs": [],
   "source": []
  }
 ],
 "metadata": {
  "kernelspec": {
   "display_name": "Python 3 (ipykernel)",
   "language": "python",
   "name": "python3"
  },
  "language_info": {
   "codemirror_mode": {
    "name": "ipython",
    "version": 3
   },
   "file_extension": ".py",
   "mimetype": "text/x-python",
   "name": "python",
   "nbconvert_exporter": "python",
   "pygments_lexer": "ipython3",
   "version": "3.10.4"
  }
 },
 "nbformat": 4,
 "nbformat_minor": 5
}
