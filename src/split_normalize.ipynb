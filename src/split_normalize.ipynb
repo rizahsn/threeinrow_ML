{
 "cells": [
  {
   "cell_type": "code",
   "execution_count": 13,
   "metadata": {},
   "outputs": [],
   "source": [
    "from datetime import datetime\n",
    "import pandas as pd\n",
    "import numpy as np\n",
    "import matplotlib.pyplot as plt\n",
    "import seaborn as sns\n",
    "import sklearn\n",
    "from sklearn.model_selection import train_test_split\n",
    "from sklearn import preprocessing\n",
    "from sklearn.metrics import accuracy_score, classification_report, confusion_matrix\n",
    "from sklearn.preprocessing import StandardScaler\n",
    "from sklearn.svm import SVC\n",
    "from sklearn import svm\n",
    "from sklearn.model_selection import GridSearchCV\n",
    "from sklearn.ensemble import RandomForestClassifier\n",
    "from sklearn.tree import DecisionTreeClassifier\n",
    "from sklearn.neighbors import KNeighborsClassifier\n"
   ]
  },
  {
   "cell_type": "code",
   "execution_count": 14,
   "metadata": {},
   "outputs": [],
   "source": [
    "%store -r trades_bearish\n",
    "%store -r trades_bullish"
   ]
  },
  {
   "cell_type": "code",
   "execution_count": 15,
   "metadata": {},
   "outputs": [
    {
     "name": "stdout",
     "output_type": "stream",
     "text": [
      "FOR BEARISH: x_train shape is (4233, 16) y_train shape is (4233,) x_test shape is (1059, 16) y_test shape is (1059,)\n",
      "FOR BULLISH: x_train shape is (4088, 16) y_train shape is (4088,) x_test shape is (1022, 16) y_test shape is (1022,)\n"
     ]
    }
   ],
   "source": [
    "X_train_bearish, X_test_bearish, Y_train_bearish, Y_test_bearish = train_test_split(trades_bearish.drop(columns=[\"result\"]) ,trades_bearish.result\n",
    "                                                    ,stratify=None,test_size=0.2, shuffle=False)\n",
    "print(f'FOR BEARISH: x_train shape is {X_train_bearish.shape} y_train shape is {Y_train_bearish.shape } x_test shape is {X_test_bearish.shape} y_test shape is {Y_test_bearish.shape}')\n",
    "\n",
    "X_train_bullish, X_test_bullish, Y_train_bullish, Y_test_bullish = train_test_split(trades_bullish.drop(columns=[\"result\"]) ,trades_bullish.result\n",
    "                                                    ,stratify=None,test_size=0.2, shuffle=False)\n",
    "print(f'FOR BULLISH: x_train shape is {X_train_bullish.shape} y_train shape is {Y_train_bullish.shape } x_test shape is {X_test_bullish.shape} y_test shape is {Y_test_bullish.shape}')"
   ]
  },
  {
   "cell_type": "code",
   "execution_count": 16,
   "metadata": {},
   "outputs": [],
   "source": [
    "# Data Normalization\n",
    "scaler = StandardScaler()\n",
    "X_train_bearish = pd.DataFrame(scaler.fit_transform(X_train_bearish))\n",
    "X_test_bearish = pd.DataFrame(scaler.fit_transform(X_test_bearish))\n",
    "\n",
    "X_train_bullish = pd.DataFrame(scaler.fit_transform(X_train_bullish))\n",
    "X_test_bullish = pd.DataFrame(scaler.fit_transform(X_test_bullish))\n"
   ]
  },
  {
   "cell_type": "code",
   "execution_count": 17,
   "metadata": {},
   "outputs": [
    {
     "name": "stdout",
     "output_type": "stream",
     "text": [
      "Stored 'X_train_bearish' (DataFrame)\n",
      "Stored 'X_test_bearish' (DataFrame)\n",
      "Stored 'X_train_bullish' (DataFrame)\n",
      "Stored 'X_test_bullish' (DataFrame)\n",
      "Stored 'Y_train_bearish' (Series)\n",
      "Stored 'Y_test_bearish' (Series)\n",
      "Stored 'Y_train_bullish' (Series)\n",
      "Stored 'Y_test_bullish' (Series)\n"
     ]
    }
   ],
   "source": [
    "%store X_train_bearish\n",
    "%store X_test_bearish\n",
    "%store X_train_bullish\n",
    "%store X_test_bullish\n",
    "%store Y_train_bearish\n",
    "%store Y_test_bearish\n",
    "%store Y_train_bullish\n",
    "%store Y_test_bullish"
   ]
  },
  {
   "cell_type": "code",
   "execution_count": null,
   "metadata": {},
   "outputs": [],
   "source": []
  }
 ],
 "metadata": {
  "kernelspec": {
   "display_name": "Python 3",
   "language": "python",
   "name": "python3"
  },
  "language_info": {
   "codemirror_mode": {
    "name": "ipython",
    "version": 3
   },
   "file_extension": ".py",
   "mimetype": "text/x-python",
   "name": "python",
   "nbconvert_exporter": "python",
   "pygments_lexer": "ipython3",
   "version": "3.7.6"
  }
 },
 "nbformat": 4,
 "nbformat_minor": 4
}
