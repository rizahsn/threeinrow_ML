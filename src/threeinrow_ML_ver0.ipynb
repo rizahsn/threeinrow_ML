{
 "cells": [
  {
   "cell_type": "code",
   "execution_count": 2,
   "id": "3b91f7f3-a9e3-4e78-9a7e-9d1fbdbea7f5",
   "metadata": {},
   "outputs": [],
   "source": [
    "from datetime import datetime\n",
    "import pandas as pd\n",
    "import numpy as np\n",
    "import matplotlib.pyplot as plt\n",
    "import seaborn as sns\n",
    "import sklearn\n",
    "from sklearn.model_selection import train_test_split\n",
    "from sklearn import preprocessing\n",
    "from sklearn.metrics import accuracy_score, classification_report, confusion_matrix\n",
    "from sklearn.preprocessing import StandardScaler\n",
    "from sklearn.svm import SVC\n",
    "from sklearn import svm\n",
    "from sklearn.model_selection import GridSearchCV\n",
    "from sklearn.ensemble import RandomForestClassifier\n",
    "from sklearn.tree import DecisionTreeClassifier\n",
    "from sklearn.neighbors import KNeighborsClassifier\n"
   ]
  },
  {
   "cell_type": "code",
   "execution_count": 6,
   "id": "77c049fa-cb7f-4815-8dbb-cb32edcf0348",
   "metadata": {},
   "outputs": [
    {
     "data": {
      "text/plain": [
       "Index(['Unnamed: 0', 'Datetime', 'Open', 'High', 'Low', 'Close', 'EMA_value_6',\n",
       "       'CCI_3', 'CCI_12', 'CCI_18', 'CCI_24', 'CCI_30', 'ADX', 'RSI_12',\n",
       "       'RSI_14', 'RSI_18', 'RSI_24', 'RSI_30', 'macd', 'macdsignal',\n",
       "       'macdhist', 'Bolinger_upper', 'Bolinger_middle', 'Bolinger_lower',\n",
       "       'ATR', 'threeinrow_type', 'move_strength', 'move_length',\n",
       "       'movemen_range', 'result', 'Entry_bar', 'Entry_price', 'exit_bar',\n",
       "       'close_rice', 'profit', 'exit_price_2', 'CCI_X', 'cci_spead',\n",
       "       'cci_acce', 'cci_acce_avg', 'cci_acce_tag_by_row',\n",
       "       'cci_acce_prob_by_row', 'cum_pnl', 'EMA6', 'distance_tf1',\n",
       "       'distance_tf2', 'rational_strength', 'entry_candle',\n",
       "       'distance_bollinger', 'distance_ratio', 'EMA_distance1_tag',\n",
       "       'EMA_distance1_prob', 'EMA_distance_ratio_tag',\n",
       "       'EMA_distance_ratio_prob', 'rational_strength_tag',\n",
       "       'rational_stregth_prob', 'entry_candle_tag', 'entry_candle_prob',\n",
       "       'distace_bollinger_tag', 'distace_bollinger_prob',\n",
       "       'rational_strength_prob', 'cci_acce_tag', 'cci_acce_prob',\n",
       "       'bollinger_I', 'High_30', 'High_30_ind', 'Low_30', 'Low_30_ind', 'T',\n",
       "       'M', 'O', 'P1', 'P2', 'P', 'Q', 'R', 'degree', 'degree_cat', 'T_cat',\n",
       "       'bollinger_com', 'bollinger_tag', 'bollinger_prob'],\n",
       "      dtype='object')"
      ]
     },
     "execution_count": 6,
     "metadata": {},
     "output_type": "execute_result"
    }
   ],
   "source": [
    "# Loading data\n",
    "data = pd.read_csv(\"EURUSDH1_2010_2022.csv\",delimiter=\",\")\n",
    "# trade list\n",
    "trades = data.loc[data['profit'] != 0]\n",
    "trades.columns"
   ]
  },
  {
   "cell_type": "code",
   "execution_count": null,
   "id": "d7910ae7-1439-47d6-a0a9-655a443dd7e0",
   "metadata": {},
   "outputs": [],
   "source": []
  }
 ],
 "metadata": {
  "kernelspec": {
   "display_name": "Python 3 (ipykernel)",
   "language": "python",
   "name": "python3"
  },
  "language_info": {
   "codemirror_mode": {
    "name": "ipython",
    "version": 3
   },
   "file_extension": ".py",
   "mimetype": "text/x-python",
   "name": "python",
   "nbconvert_exporter": "python",
   "pygments_lexer": "ipython3",
   "version": "3.10.4"
  }
 },
 "nbformat": 4,
 "nbformat_minor": 5
}
